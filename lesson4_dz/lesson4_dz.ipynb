{
 "metadata": {
  "language_info": {
   "codemirror_mode": {
    "name": "ipython",
    "version": 3
   },
   "file_extension": ".py",
   "mimetype": "text/x-python",
   "name": "python",
   "nbconvert_exporter": "python",
   "pygments_lexer": "ipython3",
   "version": "3.8.5-final"
  },
  "orig_nbformat": 2,
  "kernelspec": {
   "name": "python3",
   "display_name": "Python 3"
  }
 },
 "nbformat": 4,
 "nbformat_minor": 2,
 "cells": [
  {
   "source": [
    "__1.__ Решить систему уравнений методом Гаусса:\n",
    "\n",
    "$\\begin{cases}\n",
    "x_{1}+x_{2}-x_{3}-2x_{4}=0, \\\\\n",
    "2x_{1}+x_{2}-x_{3}+x_{4}=-2, \\\\\n",
    "x_{1}+x_{2}-3x_{3}+x_{4}=4.\n",
    "\\end{cases}$\n"
   ],
   "cell_type": "markdown",
   "metadata": {}
  },
  {
   "source": [
    "$\\begin{pmatrix}\n",
    "\\left.\\begin{matrix}\n",
    "1 & 1 & -1 & -2\\\\ \n",
    "2 & 1 & -1 & 1\\\\ \n",
    "1 & 1 & -3 & 1\n",
    "\\end{matrix}\\right|\n",
    "\\begin{matrix}\n",
    "0\\\\ \n",
    "-2\\\\\n",
    "4\n",
    "\\end{matrix}\n",
    "\\end{pmatrix} \\Rightarrow$\n",
    "$\\begin{pmatrix}\n",
    "\\left.\\begin{matrix}\n",
    "1 & 1 & -1 & -2\\\\ \n",
    "2 & 1 & -1 & 1\\\\ \n",
    "0 & 0 & -2 & 3\n",
    "\\end{matrix}\\right|\n",
    "\\begin{matrix}\n",
    "0\\\\ \n",
    "-2\\\\\n",
    "4\n",
    "\\end{matrix}\n",
    "\\end{pmatrix} \\Rightarrow$\n",
    "$\\begin{pmatrix}\n",
    "\\left.\\begin{matrix}\n",
    "1 & 1 & -1 & -2\\\\ \n",
    "0 & -1 & 1 & 5\\\\ \n",
    "0 & 0 & -2 & 3\n",
    "\\end{matrix}\\right|\n",
    "\\begin{matrix}\n",
    "0\\\\ \n",
    "-2\\\\\n",
    "4\n",
    "\\end{matrix}\n",
    "\\end{pmatrix} \\Rightarrow$\n",
    "\n",
    "$\\Rightarrow$\n",
    "$\\begin{pmatrix}\n",
    "\\left.\\begin{matrix}\n",
    "1 & 1 & -1 & -2\\\\ \n",
    "0 & -2 & 0 & 13\\\\ \n",
    "0 & 0 & -2 & 3\n",
    "\\end{matrix}\\right|\n",
    "\\begin{matrix}\n",
    "0\\\\ \n",
    "0\\\\\n",
    "4\n",
    "\\end{matrix}\n",
    "\\end{pmatrix} \\Rightarrow$\n",
    "$\\begin{pmatrix}\n",
    "\\left.\\begin{matrix}\n",
    "2 & 0 & -2 & 9\\\\ \n",
    "0 & -2 & 0 & 13\\\\ \n",
    "0 & 0 & -2 & 3\n",
    "\\end{matrix}\\right|\n",
    "\\begin{matrix}\n",
    "0\\\\ \n",
    "0\\\\\n",
    "4\n",
    "\\end{matrix}\n",
    "\\end{pmatrix} \\Rightarrow$\n",
    "$\\begin{pmatrix}\n",
    "\\left.\\begin{matrix}\n",
    "2 & 0 & 0 & 6\\\\ \n",
    "0 & -2 & 0 & 13\\\\ \n",
    "0 & 0 & -2 & 3\n",
    "\\end{matrix}\\right|\n",
    "\\begin{matrix}\n",
    "-4\\\\ \n",
    "0\\\\\n",
    "4\n",
    "\\end{matrix}\n",
    "\\end{pmatrix} \\Rightarrow$\n",
    "\n",
    "$\\Rightarrow \\begin{cases}\n",
    "x_1 = -3x_4 - 2\\\\\n",
    "x_2 = 13/2x_4\\\\\n",
    "x_3 = 3/2x_4 - 2\n",
    "\\end{cases}$ \n",
    "\n",
    "\n"
   ],
   "cell_type": "markdown",
   "metadata": {}
  },
  {
   "source": [
    "Получили бесконечное количество решений."
   ],
   "cell_type": "markdown",
   "metadata": {}
  },
  {
   "source": [
    "__2.__ Проверить на совместность и выяснить, сколько решений будет иметь система линейных уравнений:\n",
    "\n",
    "   а) $\\begin{cases}\n",
    "3x_{1}-x_{2}+x_{3}=4, \\\\\n",
    "2x_{1}-5x_{2}-3x_{3}=-17, \\\\\n",
    "x_{1}+x_{2}-x_{3}=0;\n",
    "\\end{cases}$\n",
    "    \n",
    "   б) $\\begin{cases}\n",
    "2x_{1}-4x_{2}+6x_{3}=1, \\\\\n",
    "x_{1}-2x_{2}+3x_{3}=-2, \\\\\n",
    "3x_{1}-6x_{2}+9x_{3}=5;\n",
    "\\end{cases}$\n",
    "    \n",
    "   в) $\\begin{cases}\n",
    "x_{1}+2x_{2}+5x_{3}=4, \\\\\n",
    "3x_{1}+x_{2}-8x_{3}=-2. \n",
    "\\end{cases}$"
   ],
   "cell_type": "markdown",
   "metadata": {}
  },
  {
   "cell_type": "code",
   "execution_count": 73,
   "metadata": {},
   "outputs": [],
   "source": [
    "import numpy as np"
   ]
  },
  {
   "cell_type": "code",
   "execution_count": 74,
   "metadata": {},
   "outputs": [
    {
     "output_type": "stream",
     "name": "stdout",
     "text": [
      "system a)\n [[  3  -1   1   4]\n [  2  -5  -3 -17]\n [  1   1  -1   0]]\nSolvable system, only one solution.\n\nsystem b)\n [[ 2 -4  6  1]\n [ 1 -2  3 -2]\n [ 3 -6  9  5]]\nUnsolvable system.\n\nsystem c)\n [[ 1  2  5  4]\n [ 3  1 -8 -2]]\nSolvable system, infinite quantity of solutions.\n"
     ]
    }
   ],
   "source": [
    "np.set_printoptions()\n",
    "def solvable(m):\n",
    "    if np.linalg.matrix_rank(m) == np.linalg.matrix_rank(m[:,:-1]) == len(m[0]) - 1:\n",
    "        print('Solvable system, only one solution.')\n",
    "    elif np.linalg.matrix_rank(m) == np.linalg.matrix_rank(m[:,:-1]) < len(m[0]) - 1:\n",
    "        print('Solvable system, infinite quantity of solutions.')\n",
    "    else:\n",
    "        print('Unsolvable system.')\n",
    "\n",
    "\n",
    "a = np.array([[3, -1, 1, 4], [2, -5, -3, -17], [1, 1, -1, 0]])\n",
    "b = np.array([[2, -4, 6, 1], [1, -2, 3, -2], [3, -6, 9, 5]])\n",
    "c = np.array([[1, 2, 5, 4], [3 , 1, -8, -2]])\n",
    "print(f'system a)\\n {a}')\n",
    "solvable(a)\n",
    "print(f'\\nsystem b)\\n {b}')\n",
    "solvable(b)\n",
    "print(f'\\nsystem c)\\n {c}')\n",
    "solvable(c)"
   ]
  },
  {
   "source": [
    "__3.__ Проверить на совместность и выяснить, сколько решений будет иметь система линейных уравнений, заданная расширенной матрицей\n",
    "\n",
    "$\\tilde{A}=\\begin{pmatrix}\n",
    "\\left.\\begin{matrix}\n",
    "1 & 3 & -2 & 4\\\\ \n",
    "0 & 5 & 0 & 1\\\\ \n",
    "0 & 0 & 3 & 0\\\\ \n",
    "0 & 0 & 0 & 2\n",
    "\\end{matrix}\\right|\n",
    "\\begin{matrix}\n",
    "3\\\\ \n",
    "2\\\\\n",
    "4\\\\\n",
    "1\n",
    "\\end{matrix}\n",
    "\\end{pmatrix}.$"
   ],
   "cell_type": "markdown",
   "metadata": {}
  },
  {
   "source": [
    "a = np.array([[1, 3, -2, 4, 3], [0, 5, 0, 1, 2], [0, 0, 3, 0, 4], [0, 0, 0, 2, 1]])\n",
    "print(a,'\\n')\n",
    "solvable(a)"
   ],
   "cell_type": "code",
   "metadata": {},
   "execution_count": 75,
   "outputs": [
    {
     "output_type": "stream",
     "name": "stdout",
     "text": [
      "[[ 1  3 -2  4  3]\n [ 0  5  0  1  2]\n [ 0  0  3  0  4]\n [ 0  0  0  2  1]] \n\nSolvable system, only one solution.\n"
     ]
    }
   ]
  },
  {
   "source": [
    "__4.__ Дана система линейных уравнений, заданная расширенной матрицей\n",
    "\n",
    "$\\tilde{A}=\\begin{pmatrix}\n",
    "\\left.\\begin{matrix}\n",
    "1 & 2 & 3\\\\ \n",
    "4 & 5 & 6\\\\ \n",
    "7 & 8 & 9\n",
    "\\end{matrix}\\right|\n",
    "\\begin{matrix}\n",
    "a\\\\ \n",
    "b\\\\\n",
    "c\n",
    "\\end{matrix}\n",
    "\\end{pmatrix}.$\n",
    "\n",
    "Найти соотношение между параметрами $a$, $b$ и $c$, при которых система является несовместной."
   ],
   "cell_type": "markdown",
   "metadata": {}
  },
  {
   "source": [
    "$\\begin{pmatrix}\n",
    "\\left.\\begin{matrix}\n",
    "1 & 2 & 3\\\\ \n",
    "4 & 5 & 6\\\\ \n",
    "7 & 8 & 9\n",
    "\\end{matrix}\\right|\n",
    "\\begin{matrix}\n",
    "a\\\\ \n",
    "b\\\\\n",
    "c\n",
    "\\end{matrix}\n",
    "\\end{pmatrix} \\Rightarrow$\n",
    "$\\begin{pmatrix}\n",
    "\\left.\\begin{matrix}\n",
    "1 & 2 & 3\\\\ \n",
    "2 & 1 & 0\\\\ \n",
    "3 & 2 & 0\n",
    "\\end{matrix}\\right|\n",
    "\\begin{matrix}\n",
    "a\\\\ \n",
    "b -2a\\\\\n",
    "c -3a\n",
    "\\end{matrix}\n",
    "\\end{pmatrix} \\Rightarrow$\n",
    "$\\begin{pmatrix}\n",
    "\\left.\\begin{matrix}\n",
    "1 & 2 & 3\\\\ \n",
    "2 & 1 & 0\\\\ \n",
    "0 & 0 & 0\n",
    "\\end{matrix}\\right|\n",
    "\\begin{matrix}\n",
    "a\\\\ \n",
    "b - 2a\\\\\n",
    "c + a -2b \n",
    "\\end{matrix}\n",
    "\\end{pmatrix} \\Rightarrow$\n",
    "$c + a - 2b \\neq 0$ - в этом случае система несовместна, если = 0 то совместна. проверим e = (а, b, c) = (1, 3, 1) и e' = (а, b, c) = (1, 1, 1)"
   ],
   "cell_type": "markdown",
   "metadata": {}
  },
  {
   "source": [
    "a = np.array([[1, 2, 3, 1], [4, 5, 6, 3], [7, 8, 9, 1]])\n",
    "a1 = np.array([[1, 2, 3, 1], [4, 5, 6, 1], [7, 8, 9, 1]])\n",
    "print(np.linalg.matrix_rank(a))\n",
    "solvable(a)\n",
    "print(np.linalg.matrix_rank(a1))\n",
    "solvable(a1)"
   ],
   "cell_type": "code",
   "metadata": {},
   "execution_count": 76,
   "outputs": [
    {
     "output_type": "stream",
     "name": "stdout",
     "text": [
      "3\nUnsolvable system.\n2\nSolvable system, infinite quantity of solutions.\n"
     ]
    }
   ]
  },
  {
   "source": [
    "__1.__ Решить систему уравнений методом Крамера:\n",
    "\n",
    "   а) $\\begin{cases}\n",
    "x_{1}-2x_{2}=1 \\\\\n",
    "3x_{1}-4x_{2}=7\n",
    "\\end{cases}$\n",
    "    \n",
    "   б) $\\begin{cases}\n",
    "2x_{1}-x_{2}+5x_{3}=10 \\\\\n",
    "x_{1}+x_{2}-3x_{3}=-2 \\\\\n",
    "2x_{1}+4x_{2}+x_{3}=1\n",
    "\\end{cases}$"
   ],
   "cell_type": "markdown",
   "metadata": {}
  },
  {
   "cell_type": "code",
   "execution_count": 77,
   "metadata": {},
   "outputs": [
    {
     "output_type": "stream",
     "name": "stdout",
     "text": [
      "Task a)\nx1 = 0.20000000000000007\nx2 = 0.5000000000000002\nTask b)\nx1 = 0.4999999999999995\nx2 = -0.9999999999999992\nx3 = 1.0\n"
     ]
    }
   ],
   "source": [
    "import numpy as np\n",
    "from numpy.linalg import det\n",
    "from copy import deepcopy\n",
    "\n",
    "def cramer(a, b):\n",
    "    det_a = det(a)\n",
    "    det_a_i = []\n",
    "    for i in range(len(a[0])):\n",
    "        c = deepcopy(a)\n",
    "        c[:, i] = b\n",
    "        det_a_i.append(det(c))\n",
    "    for i, det_i in enumerate(det_a_i):\n",
    "        print(f'x{i+1} = {det_a/det_i}')\n",
    "\n",
    "a1 = np.array([[1, -2], [3, -4]])\n",
    "b1 = np.array([1, 7])\n",
    "\n",
    "a2 = np.array([[2, -1, 5], [1, 1, -3], [2, 4, 1]])\n",
    "b2 = np.array([10, -2, 1])\n",
    "print('Task a)')\n",
    "cramer(a1, b1)\n",
    "print('Task b)')\n",
    "cramer(a2, b2)\n"
   ]
  },
  {
   "source": [
    "__2*.__ Найти $L$-матрицу $LU$-разложения для матрицы коэффициентов:\n",
    "\n",
    "   а)$\\begin{pmatrix}\n",
    "1 & 2 & 4 \\\\ \n",
    "2 & 9 & 12 \\\\ \n",
    "3 & 26 & 30\n",
    "\\end{pmatrix}\\Rightarrow$\n",
    "\n",
    "$\\begin{pmatrix}\n",
    "1 & 2 & 4 \\\\ \n",
    "0 & 5 & 4 \\\\ \n",
    "0 & 20 & 18\n",
    "\\end{pmatrix} \\Rightarrow$\n",
    "$\\begin{pmatrix}\n",
    "1 & 2 & 4 \\\\ \n",
    "0 & 5 & 4 \\\\ \n",
    "0 & 0 & 2\n",
    "\\end{pmatrix} = U$\n",
    "\n",
    "$\\begin{pmatrix}\n",
    "1 & 0 & 0 \\\\ \n",
    "2 & 1 & 0 \\\\ \n",
    "3 & l_{32} & 1\n",
    "\\end{pmatrix} \\Rightarrow\n",
    "\\begin{pmatrix}\n",
    "1 & 0 & 0 \\\\ \n",
    "2 & 1 & 0 \\\\ \n",
    "3 & 4 & 1\n",
    "\\end{pmatrix} = L$\n",
    "\n",
    "\n",
    "   \n",
    " "
   ],
   "cell_type": "markdown",
   "metadata": {}
  },
  {
   "source": [
    "  б)$\\begin{pmatrix}\n",
    "1 & 1 & 2 & 4\\\\ \n",
    "2 & 5 & 8 & 9\\\\ \n",
    "3 & 18 & 29 & 18\\\\\n",
    "4 & 22 & 53 & 33\n",
    "\\end{pmatrix} \\Rightarrow$\n",
    "\n",
    "$\\begin{pmatrix}\n",
    "1 & 1 & 2 & 4\\\\ \n",
    "0 & 3 & 4 & 1\\\\ \n",
    "0 & 15 & 23 & 6\\\\\n",
    "0 & 18 & 45 & 17\n",
    "\\end{pmatrix} \\Rightarrow\n",
    "\\begin{pmatrix}\n",
    "1 & 1 & 2 & 4\\\\ \n",
    "0 & 3 & 4 & 1\\\\ \n",
    "0 & 0 & 3 & 1\\\\\n",
    "0 & 0 & 21 & 11\n",
    "\\end{pmatrix} \\Rightarrow\n",
    "\\begin{pmatrix}\n",
    "1 & 1 & 2 & 4\\\\ \n",
    "0 & 3 & 4 & 1\\\\ \n",
    "0 & 0 & 3 & 1\\\\\n",
    "0 & 0 & 0 & 4\n",
    "\\end{pmatrix}=U$\n",
    "\n",
    "$\\begin{pmatrix}\n",
    "1 & 0 & 0 & 0\\\\ \n",
    "2 & 1 & 0 & 0\\\\ \n",
    "3 & l_{32} & 1 & 0\\\\\n",
    "4 & l_{42} & l_{43} & 1\n",
    "\\end{pmatrix} \\Rightarrow\n",
    "\\begin{pmatrix}\n",
    "1 & 0 & 0 & 0\\\\ \n",
    "2 & 1 & 0 & 0\\\\ \n",
    "3 & 5 & 1 & 0\\\\\n",
    "4 & 6 & l_{43} & 1\n",
    "\\end{pmatrix} \\Rightarrow\n",
    "\\begin{pmatrix}\n",
    "1 & 0 & 0 & 0\\\\ \n",
    "2 & 1 & 0 & 0\\\\ \n",
    "3 & 5 & 1 & 0\\\\\n",
    "4 & 6 & 7 & 1\n",
    "\\end{pmatrix} = L$"
   ],
   "cell_type": "markdown",
   "metadata": {}
  },
  {
   "source": [
    "__3*.__ Решить систему линейных уравнений методом $LU$-разложения\n",
    "\n",
    "$\\begin{cases}\n",
    "2x_{1}+x_{2}+3x_{3}=1 \\\\\n",
    "11x_{1}+7x_{2}+5x_{3}=-6 \\\\\n",
    "9x_{1}+8x_{2}+4x_{3}=-5\n",
    "\\end{cases}$\n"
   ],
   "cell_type": "markdown",
   "metadata": {}
  },
  {
   "source": [
    "from scipy.linalg import lu_solve, lu_factor\n",
    "a = np.array([[2, 1, 3], [11, 7, 5], [9, 8, 4]])\n",
    "b = np.array([1, -6, -5])\n",
    "lu, piv = lu_factor(a)\n",
    "x = lu_solve((lu, piv), b)\n",
    "print(x)"
   ],
   "cell_type": "code",
   "metadata": {},
   "execution_count": 78,
   "outputs": [
    {
     "output_type": "stream",
     "name": "stdout",
     "text": [
      "[-1.  0.  1.]\n"
     ]
    }
   ]
  },
  {
   "source": [
    "__4*.__ Решить систему линейных уравнений методом Холецкого\n",
    "\n",
    "$\\begin{cases}\n",
    "81x_{1}-45x_{2}+45x_{3}=531 \\\\\n",
    "-45x_{1}+50x_{2}-15x_{3}=-460 \\\\\n",
    "45x_{1}-15x_{2}+38x_{3}=193\n",
    "\\end{cases}$"
   ],
   "cell_type": "markdown",
   "metadata": {}
  },
  {
   "source": [
    "from scipy.linalg import cho_factor, cho_solve\n",
    "a = np.array([[81, -45, 45], [-45, 50, -15], [45, -15, 38]])\n",
    "c, low = cho_factor(a)\n",
    "b = np.array([531, -460, 193])\n",
    "x = cho_solve((c, low), b)\n",
    "print(x)"
   ],
   "cell_type": "code",
   "metadata": {},
   "execution_count": 79,
   "outputs": [
    {
     "output_type": "stream",
     "name": "stdout",
     "text": [
      "[ 6. -5. -4.]\n"
     ]
    }
   ]
  },
  {
   "source": [
    "__5*.__ Написать на Python программу с реализацией одного из изученных алгоритмов решения СЛАУ."
   ],
   "cell_type": "markdown",
   "metadata": {}
  },
  {
   "source": [
    "LU"
   ],
   "cell_type": "markdown",
   "metadata": {}
  },
  {
   "cell_type": "code",
   "execution_count": 80,
   "metadata": {},
   "outputs": [
    {
     "output_type": "execute_result",
     "data": {
      "text/plain": [
       "[6.0, -5.0, -4.0]"
      ]
     },
     "metadata": {},
     "execution_count": 80
    }
   ],
   "source": [
    "def mine_lu(a):\n",
    "    #return L, U matrixes\n",
    "    a = np.array(a, dtype='float64')\n",
    "    length = len(a)\n",
    "    b = np.eye(length)\n",
    "    p = np.eye(length)\n",
    "    for j in range(0, length-1):\n",
    "        for i in range(j + 1, length):\n",
    "            b[i,j] = a[i,j] / a[j][j]            \n",
    "            a[i,:] =  a[i,:] - a[i,j] / a[j][j] * a[j,:]        \n",
    "    return b, a           \n",
    "        \n",
    "def solve_lu(a, b):\n",
    "    l, u = mine_lu(a)\n",
    "    length = len(l)\n",
    "    y = np.concatenate([l, b.reshape(3,1)], axis = 1)\n",
    "    for j in range(0, length-1):\n",
    "        for i in range(j + 1, length):            \n",
    "            y[i,:] =  y[i,:] - y[i,j] / y[j][j] * y[j,:]\n",
    "    y = y[:,-1]\n",
    "    x = np.concatenate([u, y.reshape(3,1)], axis = 1)\n",
    "    length = len(x[0])\n",
    "    for j in range(-2, - length , -1):\n",
    "        for i in range(j, -length , -1):            \n",
    "            x[i,:] =  x[i,:] - x[i,j] / x[j+1][j] * x[j+1,:]\n",
    "    x_1 = [l[-1]/l[i] for i, l in enumerate(x)]\n",
    "\n",
    "    return x_1\n",
    "\n",
    "\n",
    "a = np.array([[81, -45, 45], [-45, 50, -15], [45, -15, 38]])\n",
    "b = np.array([531, -460, 193])\n",
    "\n",
    "solve_lu(a, b)"
   ]
  },
  {
   "source": [
    "Если диагональный элемент станет равным 0, то алгоритм накроется, но сейчас уже не успею дописать матрицу перемещения строк местами. по сути надо будет придумать матрицу домнажая на которую х и b мы будем получать одинаковое перемещение строк. скорей всего это единичная матрица в которой нужно менять столбцы так же ка ки строки в основной матрице."
   ],
   "cell_type": "markdown",
   "metadata": {}
  }
 ]
}