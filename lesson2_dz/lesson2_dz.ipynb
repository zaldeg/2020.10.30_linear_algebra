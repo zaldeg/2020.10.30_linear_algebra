{
 "metadata": {
  "language_info": {
   "codemirror_mode": {
    "name": "ipython",
    "version": 3
   },
   "file_extension": ".py",
   "mimetype": "text/x-python",
   "name": "python",
   "nbconvert_exporter": "python",
   "pygments_lexer": "ipython3",
   "version": "3.7.6-final"
  },
  "orig_nbformat": 2,
  "kernelspec": {
   "name": "python3",
   "display_name": "Python 3"
  }
 },
 "nbformat": 4,
 "nbformat_minor": 2,
 "cells": [
  {
   "source": [
    "__1.__ Установить, какие произведения матриц $AB$ и $BA$ определены, и найти размерности полученных матриц:\n",
    "\n",
    "   а) $A$ — матрица $4\\times 2$, $B$ — матрица $4\\times 2$;\n",
    "\n",
    "   произведение невозможно\n",
    "    \n",
    "   б) $A$ — матрица $2\\times 5$, $B$ — матрица $5\\times 3$;\n",
    "\n",
    "   определена AB размерость $2\\times 3$\n",
    "    \n",
    "   в) $A$ — матрица $8\\times 3$, $B$ — матрица $3\\times 8$;\n",
    "\n",
    "   определена AB и BA размерость $8\\times 8$ и $3\\times 3$ соответственно\n",
    "\n",
    "   г) $A$ — квадратная матрица $4\\times 4$, $B$ — квадратная матрица $4\\times 4$.\n",
    "   \n",
    "   определена AB и BA размерость $4\\times 4$ и $4\\times 4$ соответственно"
   ],
   "cell_type": "markdown",
   "metadata": {}
  },
  {
   "source": [
    "__2.__ Найти сумму и произведение матриц $A=\\begin{pmatrix}\n",
    "1 & -2\\\\ \n",
    "3 & 0\n",
    "\\end{pmatrix}$ и $B=\\begin{pmatrix}\n",
    "4 & -1\\\\ \n",
    "0 & 5\n",
    "\\end{pmatrix}.$"
   ],
   "cell_type": "markdown",
   "metadata": {}
  },
  {
   "source": [
    "$A+B=\\begin{pmatrix}\n",
    "5 & -3\\\\ \n",
    "3 & 5\n",
    "\\end{pmatrix}$<br>\n",
    "$A \\cdot B=\\begin{pmatrix}\n",
    "4+0 & -1-10\\\\ \n",
    "12+0 & -3+0\n",
    "\\end{pmatrix} = \\begin{pmatrix}\n",
    "4 & -11\\\\ \n",
    "12 & -3\n",
    "\\end{pmatrix}$\n",
    "\n",
    "$B \\cdot A=\\begin{pmatrix}\n",
    "4-3 & -8+0\\\\ \n",
    "15 & 0\n",
    "\\end{pmatrix} = \\begin{pmatrix}\n",
    "1 & -8\\\\ \n",
    "15 & 0\n",
    "\\end{pmatrix}$"
   ],
   "cell_type": "markdown",
   "metadata": {}
  },
  {
   "source": [
    "__3.__ Из закономерностей сложения и умножения матриц на число можно сделать вывод, что матрицы одного размера образуют линейное пространство. Вычислить линейную комбинацию $3A-2B+4C$ для матриц $A=\\begin{pmatrix}\n",
    "1 & 7\\\\ \n",
    "3 & -6\n",
    "\\end{pmatrix}$, $B=\\begin{pmatrix}\n",
    "0 & 5\\\\ \n",
    "2 & -1\n",
    "\\end{pmatrix}$, $C=\\begin{pmatrix}\n",
    "2 & -4\\\\ \n",
    "1 & 1\n",
    "\\end{pmatrix}.$"
   ],
   "cell_type": "markdown",
   "metadata": {}
  },
  {
   "source": [
    "$3A-2B+4C =4 \\cdot \\begin{pmatrix}\n",
    "1 & 7\\\\ \n",
    "3 & -6\n",
    "\\end{pmatrix} -2 \\cdot \\begin{pmatrix}\n",
    "0 & 5\\\\ \n",
    "2 & -1\n",
    "\\end{pmatrix} +4 \\cdot \\begin{pmatrix}\n",
    "2 & -4\\\\ \n",
    "1 & 1\n",
    "\\end{pmatrix} = \\begin{pmatrix}\n",
    "3+0+8 & 21-10-16\\\\ \n",
    "9-4+4 & -18+2+4\n",
    "\\end{pmatrix} = \\begin{pmatrix}\n",
    "11 & -5\\\\ \n",
    "9 & -12\n",
    "\\end{pmatrix}$"
   ],
   "cell_type": "markdown",
   "metadata": {}
  },
  {
   "source": [
    "__4.__ Дана матрица $A=\\begin{pmatrix}\n",
    "4 & 1\\\\ \n",
    "5 & -2\\\\ \n",
    "2 & 3\n",
    "\\end{pmatrix}$.\n",
    "Вычислить $AA^{T}$ и $A^{T}A$."
   ],
   "cell_type": "markdown",
   "metadata": {}
  },
  {
   "source": [
    "$AA^{T} =\\begin{pmatrix}\n",
    "4 & 1\\\\ \n",
    "5 & -2\\\\ \n",
    "2 & 3\n",
    "\\end{pmatrix} \\cdot \\begin{pmatrix}\n",
    "4 & 5 & 2\\\\ \n",
    "1 & -2 & 3\n",
    "\\end{pmatrix} = \\begin{pmatrix}\n",
    "16+1 & 20-2 & 8+3\\\\ \n",
    "20-2 & 25+4 & 10-6\\\\\n",
    "8+3  & 10-6 & 4+9\n",
    "\\end{pmatrix} = \\begin{pmatrix}\n",
    "17 & 18 & 11\\\\ \n",
    "18 & 29 & 4\\\\\n",
    "11  & 4 & 13\n",
    "\\end{pmatrix} $"
   ],
   "cell_type": "markdown",
   "metadata": {}
  },
  {
   "source": [
    "$A^{T}A =\\begin{pmatrix}\n",
    "4 & 5 & 2\\\\ \n",
    "1 & -2 & 3\n",
    "\\end{pmatrix} \\cdot \\begin{pmatrix}\n",
    "4 & 1\\\\ \n",
    "5 & -2\\\\ \n",
    "2 & 3\n",
    "\\end{pmatrix} = \\begin{pmatrix}\n",
    "16+25+4 & 4-10+6\\\\\n",
    "4-10+6  & 1+4+9 \n",
    "\\end{pmatrix} = \\begin{pmatrix}\n",
    "45 & 0\\\\ \n",
    "0  & 14\n",
    "\\end{pmatrix} $"
   ],
   "cell_type": "markdown",
   "metadata": {}
  },
  {
   "source": [
    "__5*.__ Написать на Python функцию для перемножения двух произвольных матриц, не используя NumPy."
   ],
   "cell_type": "markdown",
   "metadata": {}
  },
  {
   "cell_type": "code",
   "execution_count": 25,
   "metadata": {},
   "outputs": [
    {
     "output_type": "stream",
     "name": "stdout",
     "text": [
      "[[17, 18, 11], [18, 29, 4], [11, 4, 13]]\n[[45, 0], [0, 14]]\n"
     ]
    }
   ],
   "source": [
    "def vectors_multiplication(A, B, p, k):\n",
    "    # перемножает k-ую строку матрицы А на p-тый столбец матрицы B, возвращает сумму.\n",
    "    a = A[k]\n",
    "    b = [B[i][p] for i in range(len(B))]\n",
    "    return sum([a[i] * b[i] for i in range(len(a))])\n",
    "\n",
    "def matrix_multiplication(A, B):\n",
    "    if len(A[0]) != len(B):\n",
    "        print(\"Эти матрицы нельзя перемножить!\")\n",
    "    else:\n",
    "        C = [[vectors_multiplication(A,B,i,j) for i in range(len(B[0]))] for j in range(len(A))]\n",
    "        return C\n",
    "    \n",
    "A = [[4, 1], [5, -2], [2, 3]]\n",
    "B = [[4, 5, 2], [1, -2, 3]] \n",
    "\n",
    "print(matrix_multiplication(A, B))\n",
    "print(matrix_multiplication(B, A))"
   ]
  },
  {
   "source": [
    "__1.__ Вычислить определитель:\n",
    "\n",
    "   a)$$\\begin{vmatrix}\n",
    "sinx & -cosx\\\\ \n",
    "cosx & sinx\n",
    "\\end{vmatrix};$$\n",
    "\n",
    "$\\begin{vmatrix}\n",
    "sinx & -cosx\\\\ \n",
    "cosx & sinx\n",
    "\\end{vmatrix} = sin^2x +cos^2x =1$\n",
    "\n",
    "   б)$$\\begin{vmatrix}\n",
    "4 & 2 & 3\\\\ \n",
    "0 & 5 & 1\\\\ \n",
    "0 & 0 & 9\n",
    "\\end{vmatrix};$$\n",
    "\n",
    "$\\begin{vmatrix}\n",
    "4 & 2 & 3\\\\ \n",
    "0 & 5 & 1\\\\ \n",
    "0 & 0 & 9\n",
    "\\end{vmatrix} = 4 \\cdot 5 \\cdot 9 = 180$\n",
    "    \n",
    "   в)$$\\begin{vmatrix}\n",
    "1 & 2 & 3\\\\ \n",
    "4 & 5 & 6\\\\ \n",
    "7 & 8 & 9\n",
    "\\end{vmatrix}.$$\n",
    "\n",
    "$\\begin{vmatrix}\n",
    "1 & 2 & 3\\\\ \n",
    "4 & 5 & 6\\\\ \n",
    "7 & 8 & 9\n",
    "\\end{vmatrix}= 1 \\cdot \\begin{vmatrix}\n",
    "5 & 6 \\\\ \n",
    "8 & 9 \n",
    "\\end{vmatrix} - 2 \\cdot \\begin{vmatrix}\n",
    "4 & 6 \\\\ \n",
    "7 & 9 \n",
    "\\end{vmatrix} + 3 \\cdot \\begin{vmatrix}\n",
    "4 & 5 \\\\ \n",
    "7 & 8 \n",
    "\\end{vmatrix} =45-48 - 2 \\cdot (36-42) + 3 \\cdot (32 -35)= -3 +12 -9= 0$"
   ],
   "cell_type": "markdown",
   "metadata": {}
  },
  {
   "source": [
    "\n",
    "__2.__ Определитель матрицы $A$ равен $4$. Найти:\n",
    "\n",
    "   а) $det(A^{2})$;<br>\n",
    "   $det(A^2) = det(A \\cdot A)= det(A) \\cdot det(A) = 16$\n",
    "    \n",
    "   б) $det(A^{T})$;<br>\n",
    "   $det(A^{T}) = det(A) = 4$\n",
    "    \n",
    "   в) $det(2A)$<br> \n",
    "      Каждую строку матрицы $А$ умножаем на $2$, количество строк равно рангу матрицы $=>$<br>\n",
    "      $det(2A) = 2  \\cdot r \\cdot det(A)$, где $r$ ранг матрицы А."
   ],
   "cell_type": "markdown",
   "metadata": {}
  },
  {
   "source": [
    "__3.__  Доказать, что матрица$$\\begin{pmatrix}\n",
    "-2 & 7 & -3\\\\ \n",
    "4 & -14 & 6\\\\ \n",
    "-3 & 7 & 13\n",
    "\\end{pmatrix}$$\n",
    "   \n",
    "вырожденная.\n",
    "\n",
    "Домножаем первую строку на $2$ и прибавляем ко второй строке.\n",
    "\n",
    "$\\begin{vmatrix}\n",
    "-2 & 7 & -3\\\\ \n",
    "4 & -14 & 6\\\\ \n",
    "-3 & 7 & 13\n",
    "\\end{vmatrix} = \\begin{vmatrix}\n",
    "-2 & 7 & -3\\\\ \n",
    "0 & 0 & 0\\\\ \n",
    "-3 & 7 & 13\n",
    "\\end{vmatrix} = 0$ $=>$ матрица вырождена."
   ],
   "cell_type": "markdown",
   "metadata": {}
  },
  {
   "source": [
    "__4.__ Найти ранг матрицы:\n",
    "\n",
    "   а) $\\begin{pmatrix}\n",
    "1 & 2 & 3\\\\ \n",
    "1 & 1 & 1\\\\ \n",
    "2 & 3 & 4\n",
    "\\end{pmatrix};$\n",
    "\n",
    "Складываем первый 2 строки и вычитаем из четвертой:\n",
    "\n",
    "$\\begin{pmatrix}\n",
    "1 & 2 & 3\\\\ \n",
    "1 & 1 & 1\\\\ \n",
    "0 & 0 & 0\n",
    "\\end{pmatrix};$\n",
    "\n",
    "$\\begin{vmatrix}\n",
    "1 & 2\\\\\n",
    "1 & 1\n",
    "\\end{vmatrix} = -1 =>$ ранг матрицы равен $2$\n",
    "\n",
    "   б) $\\begin{pmatrix}\n",
    "0 & 0 & 2 & 1\\\\ \n",
    "0 & 0 & 2 & 2\\\\ \n",
    "0 & 0 & 4 & 3\\\\ \n",
    "2 & 3 & 5 & 6\n",
    "\\end{pmatrix}.$\n",
    "\n",
    " Поменяем строки матрицы, это можно сделать так как это влияет только на знак определителя.\n",
    "\n",
    " $\\begin{pmatrix}\n",
    "2 & 3 & 5 & 6\\\\\n",
    "0 & 0 & 2 & 1\\\\ \n",
    "0 & 0 & 2 & 2\\\\ \n",
    "0 & 0 & 4 & 3\\\\ \n",
    "\\end{pmatrix}$\n",
    "\n",
    "вычтем ми 4 строки сумму  второй и третьей:\n",
    "\n",
    "$\\begin{pmatrix}\n",
    "2 & 3 & 5 & 6\\\\\n",
    "0 & 0 & 2 & 1\\\\ \n",
    "0 & 0 & 2 & 2\\\\ \n",
    "0 & 0 & 0 & 0\\\\ \n",
    "\\end{pmatrix}$\n",
    "\n",
    "Вычтем из третей строки вторую:\n",
    "\n",
    "$\\begin{pmatrix}\n",
    "2 & 3 & 5 & 6\\\\\n",
    "0 & 0 & 2 & 1\\\\ \n",
    "0 & 0 & 0 & 1\\\\ \n",
    "0 & 0 & 0 & 0\\\\ \n",
    "\\end{pmatrix}$\n",
    "\n",
    " У нас $3$ линейно независимых строки значи ранг матрицы $3$"
   ],
   "cell_type": "markdown",
   "metadata": {}
  },
  {
   "source": [
    "## Написать алгоритм для вычисления определителя матрицы."
   ],
   "cell_type": "markdown",
   "metadata": {}
  },
  {
   "cell_type": "code",
   "execution_count": 29,
   "metadata": {},
   "outputs": [
    {
     "output_type": "stream",
     "name": "stdout",
     "text": [
      "[[1, 2, 3, 4], [4, 5, 7, 7], [7, 8, 9, 10], [10, 2, 12, 13]]\n162\n"
     ]
    }
   ],
   "source": [
    "from copy import deepcopy\n",
    "\n",
    "\n",
    "def pop_column(A, p):\n",
    "    [A[i].pop(p) for i in range(len(A))]\n",
    "    return A\n",
    "\n",
    "def det(A):\n",
    "    if len(A) == 2:\n",
    "        return A[0][0]*A[1][1] - A[1][0]*A[0][1]\n",
    "    else:\n",
    "        return sum([(-1)**(i+2) * A[0][i] * det(pop_column(deepcopy(A[1:]), i)) for i in range(len(A))])\n",
    "\n",
    "A = [[1,2,3,4],[4,5,7,7],[7,8,9,10],[10,2,12,13]]\n",
    "print(A)\n",
    "print(det(A))"
   ]
  }
 ]
}