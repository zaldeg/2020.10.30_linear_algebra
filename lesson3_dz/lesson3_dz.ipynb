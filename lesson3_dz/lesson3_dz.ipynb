{
 "metadata": {
  "language_info": {
   "codemirror_mode": {
    "name": "ipython",
    "version": 3
   },
   "file_extension": ".py",
   "mimetype": "text/x-python",
   "name": "python",
   "nbconvert_exporter": "python",
   "pygments_lexer": "ipython3",
   "version": "3.7.6-final"
  },
  "orig_nbformat": 2,
  "kernelspec": {
   "name": "python3",
   "display_name": "Python 3"
  }
 },
 "nbformat": 4,
 "nbformat_minor": 2,
 "cells": [
  {
   "source": [
    "__1.__ Найти собственные векторы и собственные значения для линейного оператора, заданного матрицей\n",
    "\n",
    "$A=\\begin{pmatrix}\n",
    "-1 & -6\\\\ \n",
    "2 & 6\n",
    "\\end{pmatrix}.$"
   ],
   "cell_type": "markdown",
   "metadata": {}
  },
  {
   "source": [
    "\n",
    "\n",
    "$\\begin{vmatrix}\n",
    "-1 - \\lambda & -6\\\\\n",
    "2 & 6 - \\lambda\n",
    "\\end{vmatrix} = 0$\n",
    "\n",
    "$ (-1 - \\lambda) \\cdot (6 - \\lambda) + 12 = 0 \\Leftrightarrow \\lambda^2 -5 \\lambda + 6 = 0 \\Leftrightarrow $\n",
    "\n",
    "$\\Leftrightarrow \\lambda = \\displaystyle \\frac{5 \\pm \\sqrt{25 -24}}{2} =\\frac {5 \\pm 1}{2} \\Leftrightarrow$\n",
    "$\\begin{cases}\n",
    "\\lambda_1 = 3\\\\\n",
    "\\lambda_2 = 2\n",
    "\\end{cases}$ - наши собственные значения\n",
    "\n",
    "$\\begin{pmatrix}\n",
    "-1 & -6\\\\\n",
    "2 & 6\n",
    "\\end{pmatrix} \\cdot\n",
    "\\begin{pmatrix}\n",
    "x_1\\\\\n",
    "x_2\n",
    "\\end{pmatrix} = \\lambda \\cdot\n",
    "\\begin{pmatrix}\n",
    "x_1\\\\\n",
    "x_2\n",
    "\\end{pmatrix}$\n"
   ],
   "cell_type": "markdown",
   "metadata": {}
  },
  {
   "source": [
    "$\\lambda = 3:$\n",
    "\n",
    "$\\begin{pmatrix}\n",
    "-1 & -6\\\\\n",
    "2 & 6\n",
    "\\end{pmatrix} \\cdot\n",
    "\\begin{pmatrix}\n",
    "x_1\\\\\n",
    "x_2\n",
    "\\end{pmatrix} = 3 \\cdot\n",
    "\\begin{pmatrix}\n",
    "x_1\\\\\n",
    "x_2\n",
    "\\end{pmatrix}$\n",
    "\n",
    "$\\begin{cases}\n",
    "-1x_1 - 6x_2 = 3x_1\\\\\n",
    "2x_1 + 6x_2 = 3x_2\n",
    "\\end{cases} \\Rightarrow $\n",
    "$\\begin{cases}\n",
    "-6x_2 = 4x_1\\\\\n",
    "2x_1 = -3x_2\n",
    "\\end{cases} \\Rightarrow \\begin{cases}\n",
    "x_2 = -2/3x_1\\\\\n",
    "2x_1 = 2x_1\n",
    "\\end{cases} \\Rightarrow \\begin{cases}\n",
    "x_1 = \\forall\\\\\n",
    "x_2 = -2/3x_1\n",
    "\\end{cases}$\n",
    "к примеру возьмем  $\\begin{pmatrix}\n",
    "1\\\\\n",
    "-\\frac{2}{3}\n",
    "\\end{pmatrix}$"
   ],
   "cell_type": "markdown",
   "metadata": {}
  },
  {
   "source": [
    "$\\lambda = 2:$\n",
    "\n",
    "$\\begin{pmatrix}\n",
    "-1 & -6\\\\\n",
    "2 & 6\n",
    "\\end{pmatrix} \\cdot\n",
    "\\begin{pmatrix}\n",
    "x_1\\\\\n",
    "x_2\n",
    "\\end{pmatrix} = 2 \\cdot\n",
    "\\begin{pmatrix}\n",
    "x_1\\\\\n",
    "x_2\n",
    "\\end{pmatrix}$\n",
    "\n",
    "$\\begin{cases}\n",
    "-1x_1 - 6x_2 = 2x_1\\\\\n",
    "2x_1 + 6x_2 = 2x_2\n",
    "\\end{cases} \\Rightarrow $\n",
    "$\\begin{cases}\n",
    "-6x_2 = 3x_1\\\\\n",
    "2x_1 = -4x_2\n",
    "\\end{cases} \\Rightarrow \\begin{cases}\n",
    "x_2 = -1/2x_1\\\\\n",
    "2x_1 = 2x_1\n",
    "\\end{cases} \\Rightarrow \\begin{cases}\n",
    "x_1 = \\forall\\\\\n",
    "x_2 = -1/2x_1\n",
    "\\end{cases}$\n",
    "к примеру возьмем $\\begin{pmatrix}\n",
    "1\\\\\n",
    "-\\frac{1}{2}\n",
    "\\end{pmatrix}$"
   ],
   "cell_type": "markdown",
   "metadata": {}
  },
  {
   "cell_type": "code",
   "execution_count": 4,
   "metadata": {},
   "outputs": [
    {
     "output_type": "stream",
     "name": "stdout",
     "text": [
      "[[-1 -6]\n [ 2  6]]\n[2. 3.]\n[[-0.89  0.83]\n [ 0.45 -0.55]]\n"
     ]
    }
   ],
   "source": [
    "import numpy as np\n",
    "np.set_printoptions(precision=2, suppress=True)\n",
    "a = np.array([[-1, -6],[2, 6]])\n",
    "w, v = np.linalg.eig(a)\n",
    "print(a)\n",
    "print(w)\n",
    "print(v)"
   ]
  },
  {
   "source": [
    "__2.__ Дан оператор поворота на 180 градусов, задаваемый матрицей \n",
    "\n",
    "$A=\\begin{pmatrix}\n",
    "-1 & 0\\\\ \n",
    "0 & -1\n",
    "\\end{pmatrix}.$\n",
    "\n",
    "Показать, что __любой__ вектор является для него собственным."
   ],
   "cell_type": "markdown",
   "metadata": {}
  },
  {
   "source": [
    "Используем наш оператор на произвольный вектор $(x_1, x_2)$:\n",
    "\n",
    "$\\begin{pmatrix}\n",
    "-1 & 0\\\\\n",
    "0 & -1\n",
    "\\end{pmatrix} \\cdot\n",
    "\\begin{pmatrix}\n",
    "x_1\\\\\n",
    "x_2\n",
    "\\end{pmatrix} = \\lambda \\cdot\n",
    "\\begin{pmatrix}\n",
    "x_1\\\\\n",
    "x_2\n",
    "\\end{pmatrix} \\Rightarrow \\begin{cases}\n",
    "-1x_1 = \\lambda x_1\\\\\n",
    "-1x_2 = \\lambda x_2\n",
    "\\end{cases} \\Rightarrow \\lambda = -1$\n",
    "\n",
    "Получается что наш оператор превращает вектор в противоположный себе по направлению, разворачивает на $180^o$ тоесть домнажает на константу $-1$. По определению собственного вектора, любой вектор будет собственным для такого оператора."
   ],
   "cell_type": "markdown",
   "metadata": {}
  },
  {
   "source": [],
   "cell_type": "markdown",
   "metadata": {}
  },
  {
   "source": [
    "__3.__ Пусть линейный оператор задан матрицей\n",
    "\n",
    "$A=\\begin{pmatrix}\n",
    "1 & 1\\\\ \n",
    "-1 & 3\n",
    "\\end{pmatrix}.$\n",
    "\n",
    "Установить, является ли вектор $x=(1,1)$ собственным вектором этого линейного оператора.\n"
   ],
   "cell_type": "markdown",
   "metadata": {}
  },
  {
   "source": [
    "$\\begin{pmatrix}\n",
    "1 & 1\\\\\n",
    "-1 & 3\n",
    "\\end{pmatrix} \\cdot\n",
    "\\begin{pmatrix}\n",
    "1\\\\\n",
    "1\n",
    "\\end{pmatrix} = \\lambda \\cdot\n",
    "\\begin{pmatrix}\n",
    "1\\\\\n",
    "1\n",
    "\\end{pmatrix} \\Rightarrow \\begin{cases}\n",
    "1 + 1 = \\lambda\\\\\n",
    "-1 + 3 = \\lambda\n",
    "\\end{cases} \\Rightarrow \\begin{cases}\n",
    "2 = \\lambda\\\\\n",
    "2 = \\lambda\n",
    "\\end{cases} \\Rightarrow \\lambda = 2$ вектор собственный"
   ],
   "cell_type": "markdown",
   "metadata": {}
  },
  {
   "source": [
    "__4.__ Пусть линейный оператор задан матрицей\n",
    "\n",
    "$A=\\begin{pmatrix}\n",
    "0 & 3 & 0\\\\ \n",
    "3 & 0 & 0\\\\\n",
    "0 & 0 & 3\n",
    "\\end{pmatrix}.$\n",
    "\n",
    "Установить, является ли вектор $x=(3, -3, -4)$ собственным вектором этого линейного оператора."
   ],
   "cell_type": "markdown",
   "metadata": {}
  },
  {
   "source": [
    "$\\begin{pmatrix}\n",
    "0 & 3 & 0\\\\\n",
    "3 & 0 & 0\\\\\n",
    "0 & 0 &3\n",
    "\\end{pmatrix} \\cdot\n",
    "\\begin{pmatrix}\n",
    "3\\\\\n",
    "-3\\\\\n",
    "-4\n",
    "\\end{pmatrix} = \\lambda \\cdot\n",
    "\\begin{pmatrix}\n",
    "3\\\\\n",
    "-3\\\\\n",
    "-4\n",
    "\\end{pmatrix} \\Rightarrow \\begin{cases}\n",
    "-9 = 3 \\lambda\\\\\n",
    "9 = -3 \\lambda\\\\\n",
    "-12 = -4 \\lambda\n",
    "\\end{cases} \\Rightarrow \\begin{cases}\n",
    "\\lambda = -3\\\\\n",
    "\\lambda = -3\\\\\n",
    "\\lambda = 3\\\\\n",
    "\\end{cases}$ такого $\\lambda$ не существует, следовательно это не собственный вектор данного оператора."
   ],
   "cell_type": "markdown",
   "metadata": {}
  }
 ]
}